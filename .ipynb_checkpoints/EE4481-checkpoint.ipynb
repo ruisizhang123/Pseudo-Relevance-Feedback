{
 "cells": [
  {
   "cell_type": "code",
   "execution_count": 1,
   "metadata": {
    "scrolled": true
   },
   "outputs": [],
   "source": [
    "from score import *\n",
    "from util import *"
   ]
  },
  {
   "cell_type": "code",
   "execution_count": 2,
   "metadata": {},
   "outputs": [],
   "source": [
    "query_dict = read_file('./data/query.txt')\n",
    "doc_dict = read_file('./data/doc.txt')\n",
    "idf = cal_idf(doc_dict=doc_dict)\n",
    "invertedIndex = generateInvertedIndex()"
   ]
  },
  {
   "cell_type": "code",
   "execution_count": 3,
   "metadata": {},
   "outputs": [],
   "source": [
    "file = open('./data/query.txt','r').read().splitlines()\n",
    "queries = []\n",
    "feedbackFlag = 1\n",
    "for query in file:\n",
    "    queries.append(query.split()[1:])\n",
    "queryID = 0"
   ]
  },
  {
   "cell_type": "code",
   "execution_count": 4,
   "metadata": {},
   "outputs": [],
   "source": [
    "def pseudoRelevanceFeedbackScores(sortedBM25Score, query,queryID):\n",
    "    global feedbackFlag\n",
    "    feedbackFlag += 1\n",
    "    k = 10\n",
    "    #reducedIndex = getReduceIndex(query, invertedIndex)\n",
    "    #print(reducedIndex)\n",
    "    newQuery = findNewQuery(query, k, sortedBM25Score, invertedIndex)\n",
    "    print(query)\n",
    "    print(newQuery)\n",
    "    PseudoRelevanceScoreList = RankDoc(newQuery,queryID)\n",
    "    return PseudoRelevanceScoreList"
   ]
  },
  {
   "cell_type": "code",
   "execution_count": 5,
   "metadata": {},
   "outputs": [],
   "source": [
    "def RankDoc(query,queryID):\n",
    "    BM25ScoreList = {}\n",
    "    global feedbackFlag\n",
    "    for ID in range(300):\n",
    "        docID = str(queryID)+'_'+str(ID)\n",
    "        #print(\"docID\",docID)\n",
    "        BM25 = GetScore(query, docID, doc_dict, idf)\n",
    "        BM25ScoreList[docID] = BM25\n",
    "    sortedBM25Score = sorted(BM25ScoreList.items(), key=lambda x:x[1], reverse=True)\n",
    "    return sortedBM25Score\n",
    "    if feedbackFlag == 1:\n",
    "        return pseudoRelevanceFeedbackScores(sortedBM25Score, query,queryID)\n",
    "    elif feedbackFlag == 2:\n",
    "        feedbackFlag = 1\n",
    "        return sortedBM25Score"
   ]
  },
  {
   "cell_type": "code",
   "execution_count": 6,
   "metadata": {
    "scrolled": true
   },
   "outputs": [],
   "source": [
    "# global feedbackFlag\n",
    "file = open('./data/bm25_score1.txt', \"w\")\n",
    "for query in queries:\n",
    "    feedbackFlag = 1\n",
    "    query = query_dict[str(queryID)]\n",
    "    sortedScoreList = RankDoc(query,queryID)\n",
    "    for rank in range(300):\n",
    "        text = str(queryID) +  ',' + str(sortedScoreList[rank][0]) + '\\n'\n",
    "        file.write(text)\n",
    "    queryID += 1\n",
    "    if queryID%10 == 0:\n",
    "        print(\"query Done:\",queryID)\n",
    "    if queryID == 50:\n",
    "        break\n",
    "file.close()"
   ]
  },
  {
   "cell_type": "code",
   "execution_count": null,
   "metadata": {},
   "outputs": [],
   "source": []
  }
 ],
 "metadata": {
  "kernelspec": {
   "display_name": "Python 3",
   "language": "python",
   "name": "python3"
  },
  "language_info": {
   "codemirror_mode": {
    "name": "ipython",
    "version": 3
   },
   "file_extension": ".py",
   "mimetype": "text/x-python",
   "name": "python",
   "nbconvert_exporter": "python",
   "pygments_lexer": "ipython3",
   "version": "3.6.5"
  }
 },
 "nbformat": 4,
 "nbformat_minor": 4
}
