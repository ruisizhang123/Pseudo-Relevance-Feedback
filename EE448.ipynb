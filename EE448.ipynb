{
 "cells": [
  {
   "cell_type": "code",
   "execution_count": 1,
   "metadata": {
    "scrolled": true
   },
   "outputs": [],
   "source": [
    "from score import *\n",
    "from util import *"
   ]
  },
  {
   "cell_type": "code",
   "execution_count": 2,
   "metadata": {},
   "outputs": [],
   "source": [
    "query_dict = read_file('./data/query.txt')\n",
    "doc_dict = read_file('./data/doc.txt')\n",
    "idf = cal_idf(doc_dict=doc_dict)\n",
    "invertedIndex = generateInvertedIndex()"
   ]
  },
  {
   "cell_type": "code",
   "execution_count": 3,
   "metadata": {},
   "outputs": [],
   "source": [
    "file = open('./data/query.txt','r').read().splitlines()\n",
    "queries = []\n",
    "feedbackFlag = 1\n",
    "for query in file:\n",
    "    queries.append(query.split()[1:])\n",
    "queryID = 0"
   ]
  },
  {
   "cell_type": "code",
   "execution_count": 4,
   "metadata": {},
   "outputs": [],
   "source": [
    "def pseudoRelevanceFeedbackScores(sortedBM25Score, query,queryID):\n",
    "    global feedbackFlag\n",
    "    feedbackFlag += 1\n",
    "    k = 5\n",
    "    #reducedIndex = getReduceIndex(query, invertedIndex)\n",
    "    #print(reducedIndex)\n",
    "    newQuery = findNewQuery(query, k, sortedBM25Score, invertedIndex)\n",
    "    print(query)\n",
    "    print(newQuery)\n",
    "    PseudoRelevanceScoreList = RankDoc(newQuery,queryID)\n",
    "    return PseudoRelevanceScoreList"
   ]
  },
  {
   "cell_type": "code",
   "execution_count": 5,
   "metadata": {},
   "outputs": [],
   "source": [
    "def RankDoc(query,queryID):\n",
    "    BM25ScoreList = {}\n",
    "    global feedbackFlag\n",
    "    for ID in range(300):\n",
    "        docID = str(queryID)+'_'+str(ID)\n",
    "        #print(\"docID\",docID)\n",
    "        BM25 = GetScore(query, docID, doc_dict, idf)\n",
    "        BM25ScoreList[docID] = BM25\n",
    "    sortedBM25Score = sorted(BM25ScoreList.items(), key=lambda x:x[1], reverse=True)\n",
    "    #return sortedBM25Score\n",
    "    if feedbackFlag == 1:\n",
    "        return pseudoRelevanceFeedbackScores(sortedBM25Score, query,queryID)\n",
    "    elif feedbackFlag == 2:\n",
    "        feedbackFlag = 1\n",
    "        return sortedBM25Score"
   ]
  },
  {
   "cell_type": "code",
   "execution_count": null,
   "metadata": {
    "scrolled": false
   },
   "outputs": [
    {
     "name": "stdout",
     "output_type": "stream",
     "text": [
      "intern organ crime\n",
      "intern organ crime crimin law\n",
      "poliomyel post polio\n",
      "poliomyel post polio vaccin diseas report peopl\n",
      "hubbl telescop achiev\n",
      "hubbl telescop achiev univers space astronom\n",
      "endang speci  mammal\n",
      "endang speci  mammal fisheri marin\n",
      "danger vehicl\n",
      "danger vehicl speed crash safeti tree\n",
      "african civilian death\n",
      "african civilian death rebel forc kigali govern rwanda\n",
      "hydroelectr project\n",
      "hydroelectr project applic file compani\n",
      "implant dentistri\n",
      "implant dentistri devic prosthesi panel class\n",
      "rap crime\n",
      "rap crime pension contribut person annuiti\n",
      "radio wave brain cancer\n",
      "radio wave brain cancer industri natur busi\n",
      "query Done: 10\n",
      "industri espionag\n",
      "industri espionag vw compani march\n",
      "hydropon\n",
      "hydropon import cent veget desertif pound\n",
      "magnet levit maglev\n",
      "magnet levit maglev test car develop train\n",
      "marin veget\n",
      "marin veget food cook chef dish\n",
      "unexplain highway accid\n",
      "unexplain highway accid rout safeti vehicl nrhm\n",
      "polygami polyandri polygyni\n",
      "polygami polyandri polygyni aid women cent uganda educ\n",
      "unsolicit fax\n",
      "unsolicit fax custom compani rule direct institut\n",
      "retir countri\n",
      "retir countri pension peopl age employ\n",
      "fuel sourc\n",
      "fuel sourc power releas tabl\n",
      "undersea fiber optic cabl\n",
      "undersea fiber optic cabl system measur\n",
      "query Done: 20\n",
      "women parliament\n",
      "women parliament azerbaijan parti bishkek\n",
      "intern art crime\n",
      "intern art crime artist exhibit fair\n",
      "literari journalist plagiar\n",
      "literari journalist plagiar leader kim nation\n",
      "argentin british relat\n",
      "argentin british relat argentina minist uk\n",
      "cult lifestyl\n",
      "cult lifestyl church student time chilton\n",
      "ferri sink\n",
      "ferri sink ship estonia safeti\n",
      "modern slaveri\n",
      "modern slaveri cent worker educ\n",
      "pope beatif\n",
      "pope beatif opu saint escriva church\n",
      "mexican air pollut\n",
      "mexican air pollut mexico citi govern\n",
      "iran iraq cooper\n",
      "iran iraq cooper turkey turkish countri\n",
      "query Done: 30\n",
      "bank critic\n",
      "bank critic meet job yesterday\n",
      "incom tax evas\n",
      "incom tax evas cent govern\n",
      "antibiot bacteria diseas\n",
      "antibiot bacteria diseas tb plagu infect\n",
      "export control cryptographi\n",
      "export control cryptographi standard fip secur modul\n"
     ]
    }
   ],
   "source": [
    "# global feedbackFlag\n",
    "file = open('./data/bm25_score.txt', \"w\")\n",
    "for query in queries:\n",
    "    feedbackFlag = 1\n",
    "    query = query_dict[str(queryID)]\n",
    "    sortedScoreList = RankDoc(query,queryID)\n",
    "    for rank in range(300):\n",
    "        text = str(queryID) +  ',' + str(sortedScoreList[rank][0]) + '\\n'\n",
    "        file.write(text)\n",
    "    queryID += 1\n",
    "    if queryID%10 == 0:\n",
    "        print(\"query Done:\",queryID)\n",
    "    if queryID == 50:\n",
    "        break\n",
    "file.close()"
   ]
  },
  {
   "cell_type": "code",
   "execution_count": null,
   "metadata": {},
   "outputs": [],
   "source": []
  }
 ],
 "metadata": {
  "kernelspec": {
   "display_name": "Python 3",
   "language": "python",
   "name": "python3"
  },
  "language_info": {
   "codemirror_mode": {
    "name": "ipython",
    "version": 3
   },
   "file_extension": ".py",
   "mimetype": "text/x-python",
   "name": "python",
   "nbconvert_exporter": "python",
   "pygments_lexer": "ipython3",
   "version": "3.6.5"
  }
 },
 "nbformat": 4,
 "nbformat_minor": 4
}
